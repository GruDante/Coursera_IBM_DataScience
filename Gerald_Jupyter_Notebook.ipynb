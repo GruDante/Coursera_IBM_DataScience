{
 "cells": [
  {
   "cell_type": "markdown",
   "metadata": {},
   "source": [
    "<center>\n",
    "    <img src=\"https://cf-courses-data.s3.us.cloud-object-storage.appdomain.cloud/IBMDeveloperSkillsNetwork-DS0105EN-SkillsNetwork/labs/Module2/images/SN_web_lightmode.png\" width=\"300\" alt=\"cognitiveclass.ai logo\"  />\n",
    "</center>\n"
   ]
  },
  {
   "cell_type": "markdown",
   "metadata": {},
   "source": [
    "# My Jupyter Notebook on IBM Watson Studio"
   ]
  },
  {
   "cell_type": "markdown",
   "metadata": {
    "tags": []
   },
   "source": [
    "## GERALD KPANGKPARI\n",
    " I aspire to be an accomplished Data Scientist"
   ]
  },
  {
   "cell_type": "markdown",
   "metadata": {},
   "source": [
    "_I am interested in Data Science partly because of my background in IT and partly because the world today as we have it, is glut with data and i am of the\n",
    "firm believe that he who make sense of this data, has the propensity to control the world._\n"
   ]
  },
  {
   "cell_type": "markdown",
   "metadata": {
    "tags": []
   },
   "source": [
    "### This code will tell the whole world that Gerald kpangkpari will be a fine Data Scientist"
   ]
  },
  {
   "cell_type": "code",
   "execution_count": 4,
   "metadata": {},
   "outputs": [
    {
     "name": "stdout",
     "output_type": "stream",
     "text": [
      "Hello world!!!, Gerald Kpangkpari will be a fine Data Scientist\n"
     ]
    }
   ],
   "source": [
    "print('Hello world!!!, Gerald Kpangkpari will be a fine Data Scientist')"
   ]
  },
  {
   "cell_type": "markdown",
   "metadata": {},
   "source": [
    "----\n",
    "Gerald Kpangkpari\n",
    "***\n",
    "DATE|QUANTITY|PRICE\n",
    "---|:---:|:---\n",
    "2 JUN |200|5.25\n",
    "27 DEC |1000|1.99\n",
    "02 JAN |16|79.99\n",
    "\n",
    "\n",
    "Please learn Data Science at [Coursera.org](https://www.coursera.org)"
   ]
  }
 ],
 "metadata": {
  "kernelspec": {
   "display_name": "Python",
   "language": "python",
   "name": "conda-env-python-py"
  },
  "language_info": {
   "codemirror_mode": {
    "name": "ipython",
    "version": 3
   },
   "file_extension": ".py",
   "mimetype": "text/x-python",
   "name": "python",
   "nbconvert_exporter": "python",
   "pygments_lexer": "ipython3",
   "version": "3.7.12"
  }
 },
 "nbformat": 4,
 "nbformat_minor": 4
}
